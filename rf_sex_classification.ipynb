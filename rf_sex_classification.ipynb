{
 "cells": [
  {
   "cell_type": "markdown",
   "metadata": {
    "id": "0Wv2ioD3Xat1"
   },
   "source": [
    "# Classifying Biological sex using FreeSurfer Volumetric Features \n",
    "\n",
    "- code based on: https://github.com/rmsouza01/AI2-Lab/tree/main/JNotebooks/Sex-classification"
   ]
  },
  {
   "cell_type": "code",
   "execution_count": 1,
   "metadata": {
    "id": "YSLw-yVYXat3"
   },
   "outputs": [],
   "source": [
    "import numpy as np\n",
    "import pandas as pd\n",
    "import seaborn as sns\n",
    "import matplotlib.pyplot as plt\n",
    "from sklearn.ensemble import RandomForestClassifier\n",
    "from sklearn.metrics import confusion_matrix, accuracy_score, ConfusionMatrixDisplay\n",
    "from sklearn.model_selection import GridSearchCV, StratifiedKFold\n",
    "from sklearn.preprocessing import StandardScaler"
   ]
  },
  {
   "cell_type": "code",
   "execution_count": 2,
   "metadata": {
    "id": "U2cbsBuLXat5"
   },
   "outputs": [
    {
     "name": "stderr",
     "output_type": "stream",
     "text": [
      "C:\\Users\\mariana\\AppData\\Local\\Temp\\ipykernel_20780\\744258109.py:3: FutureWarning: The default value of regex will change from True to False in a future version.\n",
      "  data.columns = data.columns.str.replace('[^A-Za-z0-9]+', '_').str.strip('_') #Replacing all the special characters and spaces in column name with underscore\n"
     ]
    },
    {
     "data": {
      "text/html": [
       "<div>\n",
       "<style scoped>\n",
       "    .dataframe tbody tr th:only-of-type {\n",
       "        vertical-align: middle;\n",
       "    }\n",
       "\n",
       "    .dataframe tbody tr th {\n",
       "        vertical-align: top;\n",
       "    }\n",
       "\n",
       "    .dataframe thead th {\n",
       "        text-align: right;\n",
       "    }\n",
       "</style>\n",
       "<table border=\"1\" class=\"dataframe\">\n",
       "  <thead>\n",
       "    <tr style=\"text-align: right;\">\n",
       "      <th></th>\n",
       "      <th>Measure_volume</th>\n",
       "      <th>Left_Lateral_Ventricle</th>\n",
       "      <th>Left_Inf_Lat_Vent</th>\n",
       "      <th>Left_Cerebellum_White_Matter</th>\n",
       "      <th>Left_Cerebellum_Cortex</th>\n",
       "      <th>Left_Thalamus</th>\n",
       "      <th>Left_Caudate</th>\n",
       "      <th>Left_Putamen</th>\n",
       "      <th>Left_Pallidum</th>\n",
       "      <th>Left_Hippocampus</th>\n",
       "      <th>...</th>\n",
       "      <th>lhCerebralWhiteMatterVol</th>\n",
       "      <th>rhCerebralWhiteMatterVol</th>\n",
       "      <th>CerebralWhiteMatterVol</th>\n",
       "      <th>SubCortGrayVol</th>\n",
       "      <th>TotalGrayVol</th>\n",
       "      <th>EstimatedTotalIntraCranialVol</th>\n",
       "      <th>BrainSegVolNotVent_1</th>\n",
       "      <th>BrainSegVolNotVent_2</th>\n",
       "      <th>Age</th>\n",
       "      <th>Sex</th>\n",
       "    </tr>\n",
       "  </thead>\n",
       "  <tbody>\n",
       "    <tr>\n",
       "      <th>0</th>\n",
       "      <td>CC0001_philips_15_55_M</td>\n",
       "      <td>14383.5</td>\n",
       "      <td>347.3</td>\n",
       "      <td>16704.9</td>\n",
       "      <td>65545.9</td>\n",
       "      <td>8355.0</td>\n",
       "      <td>3695.2</td>\n",
       "      <td>5246.1</td>\n",
       "      <td>2100.0</td>\n",
       "      <td>4626.1</td>\n",
       "      <td>...</td>\n",
       "      <td>260064.0</td>\n",
       "      <td>264149.0</td>\n",
       "      <td>524213</td>\n",
       "      <td>61929</td>\n",
       "      <td>711267.367273</td>\n",
       "      <td>1.756431e+06</td>\n",
       "      <td>1266382</td>\n",
       "      <td>1266382</td>\n",
       "      <td>55</td>\n",
       "      <td>M</td>\n",
       "    </tr>\n",
       "    <tr>\n",
       "      <th>1</th>\n",
       "      <td>CC0002_philips_15_56_M</td>\n",
       "      <td>5369.2</td>\n",
       "      <td>162.8</td>\n",
       "      <td>12668.8</td>\n",
       "      <td>53370.0</td>\n",
       "      <td>7143.5</td>\n",
       "      <td>3139.9</td>\n",
       "      <td>4500.7</td>\n",
       "      <td>1901.5</td>\n",
       "      <td>3521.0</td>\n",
       "      <td>...</td>\n",
       "      <td>204935.5</td>\n",
       "      <td>205957.5</td>\n",
       "      <td>410893</td>\n",
       "      <td>51286</td>\n",
       "      <td>589773.951269</td>\n",
       "      <td>1.393890e+06</td>\n",
       "      <td>1023139</td>\n",
       "      <td>1023139</td>\n",
       "      <td>56</td>\n",
       "      <td>M</td>\n",
       "    </tr>\n",
       "    <tr>\n",
       "      <th>2</th>\n",
       "      <td>CC0003_philips_15_63_F</td>\n",
       "      <td>3029.2</td>\n",
       "      <td>175.6</td>\n",
       "      <td>9510.2</td>\n",
       "      <td>39296.2</td>\n",
       "      <td>6056.8</td>\n",
       "      <td>2646.2</td>\n",
       "      <td>4096.1</td>\n",
       "      <td>1384.8</td>\n",
       "      <td>3350.2</td>\n",
       "      <td>...</td>\n",
       "      <td>173356.0</td>\n",
       "      <td>172522.0</td>\n",
       "      <td>345878</td>\n",
       "      <td>46208</td>\n",
       "      <td>504896.968842</td>\n",
       "      <td>1.259727e+06</td>\n",
       "      <td>867254</td>\n",
       "      <td>867254</td>\n",
       "      <td>63</td>\n",
       "      <td>F</td>\n",
       "    </tr>\n",
       "    <tr>\n",
       "      <th>3</th>\n",
       "      <td>CC0004_philips_15_67_M</td>\n",
       "      <td>8787.8</td>\n",
       "      <td>335.3</td>\n",
       "      <td>15830.3</td>\n",
       "      <td>53213.8</td>\n",
       "      <td>8423.4</td>\n",
       "      <td>3557.6</td>\n",
       "      <td>4689.5</td>\n",
       "      <td>2025.5</td>\n",
       "      <td>4326.0</td>\n",
       "      <td>...</td>\n",
       "      <td>275287.5</td>\n",
       "      <td>275054.5</td>\n",
       "      <td>550342</td>\n",
       "      <td>60029</td>\n",
       "      <td>678336.226332</td>\n",
       "      <td>1.805187e+06</td>\n",
       "      <td>1255855</td>\n",
       "      <td>1255855</td>\n",
       "      <td>67</td>\n",
       "      <td>M</td>\n",
       "    </tr>\n",
       "    <tr>\n",
       "      <th>4</th>\n",
       "      <td>CC0005_philips_15_62_M</td>\n",
       "      <td>8025.8</td>\n",
       "      <td>363.9</td>\n",
       "      <td>12819.5</td>\n",
       "      <td>55662.0</td>\n",
       "      <td>8333.7</td>\n",
       "      <td>3367.5</td>\n",
       "      <td>3873.6</td>\n",
       "      <td>2021.2</td>\n",
       "      <td>4483.1</td>\n",
       "      <td>...</td>\n",
       "      <td>219947.0</td>\n",
       "      <td>222454.0</td>\n",
       "      <td>442401</td>\n",
       "      <td>55998</td>\n",
       "      <td>653856.244352</td>\n",
       "      <td>1.651331e+06</td>\n",
       "      <td>1119780</td>\n",
       "      <td>1119780</td>\n",
       "      <td>62</td>\n",
       "      <td>M</td>\n",
       "    </tr>\n",
       "  </tbody>\n",
       "</table>\n",
       "<p>5 rows × 43 columns</p>\n",
       "</div>"
      ],
      "text/plain": [
       "           Measure_volume  Left_Lateral_Ventricle  Left_Inf_Lat_Vent  \\\n",
       "0  CC0001_philips_15_55_M                 14383.5              347.3   \n",
       "1  CC0002_philips_15_56_M                  5369.2              162.8   \n",
       "2  CC0003_philips_15_63_F                  3029.2              175.6   \n",
       "3  CC0004_philips_15_67_M                  8787.8              335.3   \n",
       "4  CC0005_philips_15_62_M                  8025.8              363.9   \n",
       "\n",
       "   Left_Cerebellum_White_Matter  Left_Cerebellum_Cortex  Left_Thalamus  \\\n",
       "0                       16704.9                 65545.9         8355.0   \n",
       "1                       12668.8                 53370.0         7143.5   \n",
       "2                        9510.2                 39296.2         6056.8   \n",
       "3                       15830.3                 53213.8         8423.4   \n",
       "4                       12819.5                 55662.0         8333.7   \n",
       "\n",
       "   Left_Caudate  Left_Putamen  Left_Pallidum  Left_Hippocampus  ...  \\\n",
       "0        3695.2        5246.1         2100.0            4626.1  ...   \n",
       "1        3139.9        4500.7         1901.5            3521.0  ...   \n",
       "2        2646.2        4096.1         1384.8            3350.2  ...   \n",
       "3        3557.6        4689.5         2025.5            4326.0  ...   \n",
       "4        3367.5        3873.6         2021.2            4483.1  ...   \n",
       "\n",
       "   lhCerebralWhiteMatterVol  rhCerebralWhiteMatterVol  CerebralWhiteMatterVol  \\\n",
       "0                  260064.0                  264149.0                  524213   \n",
       "1                  204935.5                  205957.5                  410893   \n",
       "2                  173356.0                  172522.0                  345878   \n",
       "3                  275287.5                  275054.5                  550342   \n",
       "4                  219947.0                  222454.0                  442401   \n",
       "\n",
       "   SubCortGrayVol   TotalGrayVol  EstimatedTotalIntraCranialVol  \\\n",
       "0           61929  711267.367273                   1.756431e+06   \n",
       "1           51286  589773.951269                   1.393890e+06   \n",
       "2           46208  504896.968842                   1.259727e+06   \n",
       "3           60029  678336.226332                   1.805187e+06   \n",
       "4           55998  653856.244352                   1.651331e+06   \n",
       "\n",
       "   BrainSegVolNotVent_1  BrainSegVolNotVent_2  Age  Sex  \n",
       "0               1266382               1266382   55    M  \n",
       "1               1023139               1023139   56    M  \n",
       "2                867254                867254   63    F  \n",
       "3               1255855               1255855   67    M  \n",
       "4               1119780               1119780   62    M  \n",
       "\n",
       "[5 rows x 43 columns]"
      ]
     },
     "execution_count": 2,
     "metadata": {},
     "output_type": "execute_result"
    }
   ],
   "source": [
    "# Load the data; replace special character, spaces and add Sex column\n",
    "data = pd.read_excel(\"data-sample/volumetry_cc359.xlsx\") # Reading the excel file\n",
    "data.columns = data.columns.str.replace('[^A-Za-z0-9]+', '_').str.strip('_') #Replacing all the special characters and spaces in column name with underscore\n",
    "data.dropna(axis=1, how='all', inplace=True) # Drops the NA values from the dataframe\n",
    "data[\"Sex\"] = data[\"Measure_volume\"].apply(lambda x: x.split(\"_\")[-1]) #Adding a new column to the dataframe called 'Sex' which identifies the gender.\n",
    "data.head()"
   ]
  },
  {
   "cell_type": "code",
   "execution_count": 3,
   "metadata": {
    "id": "0Lq_PCpeXat_"
   },
   "outputs": [
    {
     "name": "stderr",
     "output_type": "stream",
     "text": [
      "C:\\Users\\mariana\\anaconda3\\envs\\venv\\lib\\site-packages\\seaborn\\_decorators.py:36: FutureWarning: Pass the following variable as a keyword arg: x. From version 0.12, the only valid positional argument will be `data`, and passing other arguments without an explicit keyword will result in an error or misinterpretation.\n",
      "  warnings.warn(\n"
     ]
    },
    {
     "data": {
      "image/png": "[encoded data removed]",
      "text/plain": [
       "<Figure size 432x288 with 1 Axes>"
      ]
     },
     "metadata": {
      "needs_background": "light"
     },
     "output_type": "display_data"
    }
   ],
   "source": [
    "sns.set(style=\"darkgrid\")\n",
    "ax = sns.countplot(data[\"Sex\"]) #plotting the Sex distribution from the DataFrame"
   ]
  },
  {
   "cell_type": "code",
   "execution_count": 4,
   "metadata": {},
   "outputs": [
    {
     "data": {
      "text/html": [
       "<div>\n",
       "<style scoped>\n",
       "    .dataframe tbody tr th:only-of-type {\n",
       "        vertical-align: middle;\n",
       "    }\n",
       "\n",
       "    .dataframe tbody tr th {\n",
       "        vertical-align: top;\n",
       "    }\n",
       "\n",
       "    .dataframe thead th {\n",
       "        text-align: right;\n",
       "    }\n",
       "</style>\n",
       "<table border=\"1\" class=\"dataframe\">\n",
       "  <thead>\n",
       "    <tr style=\"text-align: right;\">\n",
       "      <th></th>\n",
       "      <th>Measure_volume</th>\n",
       "      <th>Left_Lateral_Ventricle</th>\n",
       "      <th>Left_Inf_Lat_Vent</th>\n",
       "      <th>Left_Cerebellum_White_Matter</th>\n",
       "      <th>Left_Cerebellum_Cortex</th>\n",
       "      <th>Left_Thalamus</th>\n",
       "      <th>Left_Caudate</th>\n",
       "      <th>Left_Putamen</th>\n",
       "      <th>Left_Pallidum</th>\n",
       "      <th>Left_Hippocampus</th>\n",
       "      <th>...</th>\n",
       "      <th>lhCerebralWhiteMatterVol</th>\n",
       "      <th>rhCerebralWhiteMatterVol</th>\n",
       "      <th>CerebralWhiteMatterVol</th>\n",
       "      <th>SubCortGrayVol</th>\n",
       "      <th>TotalGrayVol</th>\n",
       "      <th>EstimatedTotalIntraCranialVol</th>\n",
       "      <th>BrainSegVolNotVent_1</th>\n",
       "      <th>BrainSegVolNotVent_2</th>\n",
       "      <th>Age</th>\n",
       "      <th>Sex</th>\n",
       "    </tr>\n",
       "  </thead>\n",
       "  <tbody>\n",
       "    <tr>\n",
       "      <th>0</th>\n",
       "      <td>CC0001_philips_15_55_M</td>\n",
       "      <td>14383.5</td>\n",
       "      <td>347.3</td>\n",
       "      <td>16704.9</td>\n",
       "      <td>65545.9</td>\n",
       "      <td>8355.0</td>\n",
       "      <td>3695.2</td>\n",
       "      <td>5246.1</td>\n",
       "      <td>2100.0</td>\n",
       "      <td>4626.1</td>\n",
       "      <td>...</td>\n",
       "      <td>260064.0</td>\n",
       "      <td>264149.0</td>\n",
       "      <td>524213</td>\n",
       "      <td>61929</td>\n",
       "      <td>711267.367273</td>\n",
       "      <td>1.756431e+06</td>\n",
       "      <td>1266382</td>\n",
       "      <td>1266382</td>\n",
       "      <td>55</td>\n",
       "      <td>1</td>\n",
       "    </tr>\n",
       "    <tr>\n",
       "      <th>1</th>\n",
       "      <td>CC0002_philips_15_56_M</td>\n",
       "      <td>5369.2</td>\n",
       "      <td>162.8</td>\n",
       "      <td>12668.8</td>\n",
       "      <td>53370.0</td>\n",
       "      <td>7143.5</td>\n",
       "      <td>3139.9</td>\n",
       "      <td>4500.7</td>\n",
       "      <td>1901.5</td>\n",
       "      <td>3521.0</td>\n",
       "      <td>...</td>\n",
       "      <td>204935.5</td>\n",
       "      <td>205957.5</td>\n",
       "      <td>410893</td>\n",
       "      <td>51286</td>\n",
       "      <td>589773.951269</td>\n",
       "      <td>1.393890e+06</td>\n",
       "      <td>1023139</td>\n",
       "      <td>1023139</td>\n",
       "      <td>56</td>\n",
       "      <td>1</td>\n",
       "    </tr>\n",
       "    <tr>\n",
       "      <th>2</th>\n",
       "      <td>CC0003_philips_15_63_F</td>\n",
       "      <td>3029.2</td>\n",
       "      <td>175.6</td>\n",
       "      <td>9510.2</td>\n",
       "      <td>39296.2</td>\n",
       "      <td>6056.8</td>\n",
       "      <td>2646.2</td>\n",
       "      <td>4096.1</td>\n",
       "      <td>1384.8</td>\n",
       "      <td>3350.2</td>\n",
       "      <td>...</td>\n",
       "      <td>173356.0</td>\n",
       "      <td>172522.0</td>\n",
       "      <td>345878</td>\n",
       "      <td>46208</td>\n",
       "      <td>504896.968842</td>\n",
       "      <td>1.259727e+06</td>\n",
       "      <td>867254</td>\n",
       "      <td>867254</td>\n",
       "      <td>63</td>\n",
       "      <td>0</td>\n",
       "    </tr>\n",
       "    <tr>\n",
       "      <th>3</th>\n",
       "      <td>CC0004_philips_15_67_M</td>\n",
       "      <td>8787.8</td>\n",
       "      <td>335.3</td>\n",
       "      <td>15830.3</td>\n",
       "      <td>53213.8</td>\n",
       "      <td>8423.4</td>\n",
       "      <td>3557.6</td>\n",
       "      <td>4689.5</td>\n",
       "      <td>2025.5</td>\n",
       "      <td>4326.0</td>\n",
       "      <td>...</td>\n",
       "      <td>275287.5</td>\n",
       "      <td>275054.5</td>\n",
       "      <td>550342</td>\n",
       "      <td>60029</td>\n",
       "      <td>678336.226332</td>\n",
       "      <td>1.805187e+06</td>\n",
       "      <td>1255855</td>\n",
       "      <td>1255855</td>\n",
       "      <td>67</td>\n",
       "      <td>1</td>\n",
       "    </tr>\n",
       "    <tr>\n",
       "      <th>4</th>\n",
       "      <td>CC0005_philips_15_62_M</td>\n",
       "      <td>8025.8</td>\n",
       "      <td>363.9</td>\n",
       "      <td>12819.5</td>\n",
       "      <td>55662.0</td>\n",
       "      <td>8333.7</td>\n",
       "      <td>3367.5</td>\n",
       "      <td>3873.6</td>\n",
       "      <td>2021.2</td>\n",
       "      <td>4483.1</td>\n",
       "      <td>...</td>\n",
       "      <td>219947.0</td>\n",
       "      <td>222454.0</td>\n",
       "      <td>442401</td>\n",
       "      <td>55998</td>\n",
       "      <td>653856.244352</td>\n",
       "      <td>1.651331e+06</td>\n",
       "      <td>1119780</td>\n",
       "      <td>1119780</td>\n",
       "      <td>62</td>\n",
       "      <td>1</td>\n",
       "    </tr>\n",
       "  </tbody>\n",
       "</table>\n",
       "<p>5 rows × 43 columns</p>\n",
       "</div>"
      ],
      "text/plain": [
       "           Measure_volume  Left_Lateral_Ventricle  Left_Inf_Lat_Vent  \\\n",
       "0  CC0001_philips_15_55_M                 14383.5              347.3   \n",
       "1  CC0002_philips_15_56_M                  5369.2              162.8   \n",
       "2  CC0003_philips_15_63_F                  3029.2              175.6   \n",
       "3  CC0004_philips_15_67_M                  8787.8              335.3   \n",
       "4  CC0005_philips_15_62_M                  8025.8              363.9   \n",
       "\n",
       "   Left_Cerebellum_White_Matter  Left_Cerebellum_Cortex  Left_Thalamus  \\\n",
       "0                       16704.9                 65545.9         8355.0   \n",
       "1                       12668.8                 53370.0         7143.5   \n",
       "2                        9510.2                 39296.2         6056.8   \n",
       "3                       15830.3                 53213.8         8423.4   \n",
       "4                       12819.5                 55662.0         8333.7   \n",
       "\n",
       "   Left_Caudate  Left_Putamen  Left_Pallidum  Left_Hippocampus  ...  \\\n",
       "0        3695.2        5246.1         2100.0            4626.1  ...   \n",
       "1        3139.9        4500.7         1901.5            3521.0  ...   \n",
       "2        2646.2        4096.1         1384.8            3350.2  ...   \n",
       "3        3557.6        4689.5         2025.5            4326.0  ...   \n",
       "4        3367.5        3873.6         2021.2            4483.1  ...   \n",
       "\n",
       "   lhCerebralWhiteMatterVol  rhCerebralWhiteMatterVol  CerebralWhiteMatterVol  \\\n",
       "0                  260064.0                  264149.0                  524213   \n",
       "1                  204935.5                  205957.5                  410893   \n",
       "2                  173356.0                  172522.0                  345878   \n",
       "3                  275287.5                  275054.5                  550342   \n",
       "4                  219947.0                  222454.0                  442401   \n",
       "\n",
       "   SubCortGrayVol   TotalGrayVol  EstimatedTotalIntraCranialVol  \\\n",
       "0           61929  711267.367273                   1.756431e+06   \n",
       "1           51286  589773.951269                   1.393890e+06   \n",
       "2           46208  504896.968842                   1.259727e+06   \n",
       "3           60029  678336.226332                   1.805187e+06   \n",
       "4           55998  653856.244352                   1.651331e+06   \n",
       "\n",
       "   BrainSegVolNotVent_1  BrainSegVolNotVent_2  Age  Sex  \n",
       "0               1266382               1266382   55    1  \n",
       "1               1023139               1023139   56    1  \n",
       "2                867254                867254   63    0  \n",
       "3               1255855               1255855   67    1  \n",
       "4               1119780               1119780   62    1  \n",
       "\n",
       "[5 rows x 43 columns]"
      ]
     },
     "execution_count": 4,
     "metadata": {},
     "output_type": "execute_result"
    }
   ],
   "source": [
    "## replaces the gender by 0/1, 0 for Female and 1 for Male ##\n",
    "data.loc[data['Sex'] == \"F\", 'Sex'] = 0 \n",
    "data.loc[data['Sex'] == \"M\", 'Sex'] = 1\n",
    "data[\"Sex\"] = data[\"Sex\"].astype(int)\n",
    "data.head()"
   ]
  },
  {
   "cell_type": "code",
   "execution_count": 5,
   "metadata": {
    "colab": {
     "base_uri": "https://localhost:8080/"
    },
    "id": "RLCNaxnaXauA",
    "outputId": "a6ca65aa-75a8-4282-e736-c625fe03c342",
    "scrolled": false
   },
   "outputs": [
    {
     "name": "stdout",
     "output_type": "stream",
     "text": [
      "Measure_volume,Left_Lateral_Ventricle,Left_Inf_Lat_Vent,Left_Cerebellum_White_Matter,Left_Cerebellum_Cortex,Left_Thalamus,Left_Caudate,Left_Putamen,Left_Pallidum,Left_Hippocampus,Left_Amygdala,CSF,Right_Lateral_Ventricle,Right_Inf_Lat_Vent,Right_Cerebellum_White_Matter,Right_Cerebellum_Cortex,Right_Thalamus,Right_Caudate,Right_Putamen,Right_Pallidum,Right_Hippocampus,Right_Amygdala,Right_VentralDC,CC_Posterior,CC_Mid_Posterior,CC_Central,CC_Mid_Anterior,CC_Anterior,BrainSegVol,BrainSegVolNotVent,lhCortexVol,rhCortexVol,CortexVol,lhCerebralWhiteMatterVol,rhCerebralWhiteMatterVol,CerebralWhiteMatterVol,SubCortGrayVol,TotalGrayVol,EstimatedTotalIntraCranialVol,BrainSegVolNotVent_1,BrainSegVolNotVent_2,Age,Sex,"
     ]
    }
   ],
   "source": [
    "#Printing all the column names to have a look at the oveall features we have\n",
    "for col_name in data.columns:\n",
    "    print(col_name, end =\",\")"
   ]
  },
  {
   "cell_type": "code",
   "execution_count": 6,
   "metadata": {},
   "outputs": [
    {
     "name": "stderr",
     "output_type": "stream",
     "text": [
      "C:\\Users\\mariana\\anaconda3\\envs\\venv\\lib\\site-packages\\seaborn\\_decorators.py:36: FutureWarning: Pass the following variable as a keyword arg: x. From version 0.12, the only valid positional argument will be `data`, and passing other arguments without an explicit keyword will result in an error or misinterpretation.\n",
      "  warnings.warn(\n"
     ]
    },
    {
     "data": {
      "image/png": "[encoded data removed]",
      "text/plain": [
       "<Figure size 720x1152 with 1 Axes>"
      ]
     },
     "metadata": {
      "needs_background": "light"
     },
     "output_type": "display_data"
    }
   ],
   "source": [
    "fig, ax = plt.subplots(figsize=(10,16))\n",
    "sns.set(style=\"darkgrid\")\n",
    "ax = sns.countplot(data[\"Age\"]) #plotting the Scanner distribution from the DataFrame"
   ]
  },
  {
   "cell_type": "code",
   "execution_count": 7,
   "metadata": {
    "id": "ZFidTxMvXauD"
   },
   "outputs": [
    {
     "name": "stdout",
     "output_type": "stream",
     "text": [
      "StratifiedKFold(n_splits=2, random_state=None, shuffle=False)\n"
     ]
    }
   ],
   "source": [
    "## Splitting dataset using stratified cross-validation##\n",
    "\n",
    "to_drop = [\"Sex\"]\n",
    "to_keep = [\"Sex\"]\n",
    "\n",
    "X = data.drop(to_drop, axis = 1).to_numpy()[:,1:] #Drop irrelevant columns for training from testing feature set\n",
    "y = data[to_keep].to_numpy()\n",
    "\n",
    "skf = StratifiedKFold(n_splits=2,shuffle=False)\n",
    "skf.get_n_splits(X, y)\n",
    "print (skf)"
   ]
  },
  {
   "cell_type": "code",
   "execution_count": 8,
   "metadata": {},
   "outputs": [
    {
     "name": "stdout",
     "output_type": "stream",
     "text": [
      "(179, 41)\n",
      "Fitting 4 folds for each of 288 candidates, totalling 1152 fits\n"
     ]
    },
    {
     "name": "stderr",
     "output_type": "stream",
     "text": [
      "C:\\Users\\mariana\\anaconda3\\envs\\venv\\lib\\site-packages\\sklearn\\model_selection\\_search.py:926: DataConversionWarning: A column-vector y was passed when a 1d array was expected. Please change the shape of y to (n_samples,), for example using ravel().\n",
      "  self.best_estimator_.fit(X, y, **fit_params)\n"
     ]
    },
    {
     "name": "stdout",
     "output_type": "stream",
     "text": [
      "{'bootstrap': False, 'max_depth': 10, 'max_features': 'auto', 'min_samples_leaf': 1, 'min_samples_split': 5, 'n_estimators': 400}\n",
      "(180, 41)\n",
      "Fitting 4 folds for each of 288 candidates, totalling 1152 fits\n"
     ]
    },
    {
     "name": "stderr",
     "output_type": "stream",
     "text": [
      "C:\\Users\\mariana\\anaconda3\\envs\\venv\\lib\\site-packages\\sklearn\\model_selection\\_search.py:926: DataConversionWarning: A column-vector y was passed when a 1d array was expected. Please change the shape of y to (n_samples,), for example using ravel().\n",
      "  self.best_estimator_.fit(X, y, **fit_params)\n"
     ]
    },
    {
     "name": "stdout",
     "output_type": "stream",
     "text": [
      "{'bootstrap': True, 'max_depth': 10, 'max_features': 'auto', 'min_samples_leaf': 1, 'min_samples_split': 2, 'n_estimators': 200}\n"
     ]
    }
   ],
   "source": [
    "test_sets_accuracy = []\n",
    "confusion = np.zeros((2,2))\n",
    "\n",
    "# Random Forest Grid Search\n",
    "param_grid = {'bootstrap': [True, False],\n",
    "              'max_depth': [10, 20, 30, 40],\n",
    "              'max_features': ['auto', 'sqrt'],\n",
    "              'min_samples_leaf': [1, 2, 4],\n",
    "              'min_samples_split': [2, 5, 10],\n",
    "              'n_estimators': [200, 400, ]}\n",
    "\n",
    "for train_index, test_index in skf.split(X, y):\n",
    "    Xtrain, Xtest = X[train_index], X[test_index]\n",
    "    Ytrain, Ytest = y[train_index], y[test_index]\n",
    "    \n",
    "    scaler = StandardScaler()\n",
    "    scaler.fit(Xtrain)\n",
    "    Xtrain_scaled = scaler.transform(Xtrain)\n",
    "    Xtest_scaled = scaler.transform(Xtest)\n",
    "    print(Xtrain.shape)\n",
    "    base_estimator = RandomForestClassifier(random_state=0)\n",
    "    \n",
    "    #Defining GridSearch with different parameters\n",
    "    clf = GridSearchCV(base_estimator, param_grid=param_grid, n_jobs=6, cv = 4, scoring='accuracy', verbose=2, refit=True)\n",
    "    clf.fit(Xtrain_scaled, Ytrain) \n",
    "    print(clf.best_params_) #Printing the best parameters\n",
    "    Ypred = clf.predict(Xtest_scaled) #Predicting labels for test data\n",
    "    accuracy = accuracy_score(Ytest, Ypred) #Calculating accuracy\n",
    "    test_sets_accuracy.append(accuracy * 100.0) #Multiplying accuracy with 100 to get percentage value\n",
    "    confusion+=(confusion_matrix(Ytest, Ypred))"
   ]
  },
  {
   "cell_type": "code",
   "execution_count": 9,
   "metadata": {
    "id": "BCErJIUoXauF"
   },
   "outputs": [
    {
     "name": "stdout",
     "output_type": "stream",
     "text": [
      "Accuracy Achieved (mean +/- std):  76.32526381129733 0.7697082557417758\n"
     ]
    }
   ],
   "source": [
    "print(\"Accuracy Achieved (mean +/- std): \", np.mean(test_sets_accuracy),np.std(test_sets_accuracy))"
   ]
  },
  {
   "cell_type": "code",
   "execution_count": 10,
   "metadata": {
    "id": "AqvTYh-HXauG"
   },
   "outputs": [
    {
     "data": {
      "image/png": "[encoded data removed]",
      "text/plain": [
       "<Figure size 432x288 with 2 Axes>"
      ]
     },
     "metadata": {},
     "output_type": "display_data"
    }
   ],
   "source": [
    "disp = ConfusionMatrixDisplay(confusion_matrix=confusion,\n",
    "                               display_labels=['Female', 'Male'])\n",
    "disp.plot()\n",
    "plt.show()"
   ]
  },
  {
   "cell_type": "code",
   "execution_count": null,
   "metadata": {},
   "outputs": [],
   "source": []
  }
 ],
 "metadata": {
  "colab": {
   "collapsed_sections": [],
   "name": "Group9_Assignment3_Solution.ipynb",
   "provenance": [],
   "toc_visible": true
  },
  "kernelspec": {
   "display_name": "Python 3 (ipykernel)",
   "language": "python",
   "name": "python3"
  },
  "language_info": {
   "codemirror_mode": {
    "name": "ipython",
    "version": 3
   },
   "file_extension": ".py",
   "mimetype": "text/x-python",
   "name": "python",
   "nbconvert_exporter": "python",
   "pygments_lexer": "ipython3",
   "version": "3.8.13"
  },
  "vscode": {
   "interpreter": {
    "hash": "858b398bc212fcf06bc39608038765ec8b90d91cf731fd4eb673a5773b33c4c1"
   }
  }
 },
 "nbformat": 4,
 "nbformat_minor": 1
}
